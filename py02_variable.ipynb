{
  "nbformat": 4,
  "nbformat_minor": 0,
  "metadata": {
    "colab": {
      "provenance": [],
      "authorship_tag": "ABX9TyMocYKpiRJEzfzouvVNNwHx",
      "include_colab_link": true
    },
    "kernelspec": {
      "name": "python3",
      "display_name": "Python 3"
    },
    "language_info": {
      "name": "python"
    }
  },
  "cells": [
    {
      "cell_type": "markdown",
      "metadata": {
        "id": "view-in-github",
        "colab_type": "text"
      },
      "source": [
        "<a href=\"https://colab.research.google.com/github/ctw6413/lab_python/blob/master/py02_variable.ipynb\" target=\"_parent\"><img src=\"https://colab.research.google.com/assets/colab-badge.svg\" alt=\"Open In Colab\"/></a>"
      ]
    },
    {
      "cell_type": "markdown",
      "source": [
        "# 파이썬 자료 타입\n",
        "\n",
        "* 숫자 타입\n",
        "  * `int`: 정수\n",
        "  * `float`: 실수\n",
        "* 문자열 타입\n",
        "  * `str`\n",
        "* 논리 타입\n",
        "  * `bool`: True/False\n",
        "* 객체 타입\n",
        "\n",
        "파이썬에서는 변수를 선언할 때 자료 타입을 명시하지 않음.\n",
        "\n",
        "변수의 자료타입은 코드가 실행 때 결정됨."
      ],
      "metadata": {
        "id": "si745lBpmhnD"
      }
    },
    {
      "cell_type": "code",
      "execution_count": null,
      "metadata": {
        "colab": {
          "base_uri": "https://localhost:8080/"
        },
        "id": "xr86IpLElq1w",
        "outputId": "dac410b2-6876-45ad-9c4c-f036f9c8351b"
      },
      "outputs": [
        {
          "output_type": "stream",
          "name": "stdout",
          "text": [
            "3.14\n"
          ]
        },
        {
          "output_type": "execute_result",
          "data": {
            "text/plain": [
              "float"
            ]
          },
          "metadata": {},
          "execution_count": 1
        }
      ],
      "source": [
        "pi = 3.14\n",
        "print(pi)\n",
        "type(pi) # print(type(pi))"
      ]
    },
    {
      "cell_type": "markdown",
      "source": [
        "## 명시적 타입 변환\n",
        "\n",
        "* `int(arg)`: arg를 정수 타입으로 변환해서 리턴.\n",
        "* `float(arg)`: arg를 실수 타입으로 변환해서 리턴\n",
        "* `str(arg)`: arg를 문자열로 변환해서 리턴\n"
      ],
      "metadata": {
        "id": "yQ5gncZRo6Ew"
      }
    },
    {
      "cell_type": "code",
      "source": [
        "# Colab 노트북에서 콘솔 입력:\n",
        "n = input('정수 입력>>>> ')"
      ],
      "metadata": {
        "colab": {
          "base_uri": "https://localhost:8080/"
        },
        "id": "Py8C8A4qo53g",
        "outputId": "912c50b2-07d6-4785-b58c-680abde28a05"
      },
      "execution_count": null,
      "outputs": [
        {
          "name": "stdout",
          "output_type": "stream",
          "text": [
            "정수 입력>>>>123\n"
          ]
        }
      ]
    },
    {
      "cell_type": "code",
      "source": [
        "type(n)"
      ],
      "metadata": {
        "colab": {
          "base_uri": "https://localhost:8080/"
        },
        "id": "gArujydyowUO",
        "outputId": "3983c394-01c6-4c8a-9029-90b95140d989"
      },
      "execution_count": null,
      "outputs": [
        {
          "output_type": "execute_result",
          "data": {
            "text/plain": [
              "str"
            ]
          },
          "metadata": {},
          "execution_count": 3
        }
      ]
    },
    {
      "cell_type": "code",
      "source": [
        "int(n) + 1 # 123 + 1"
      ],
      "metadata": {
        "colab": {
          "base_uri": "https://localhost:8080/"
        },
        "id": "-saES0MJqRDe",
        "outputId": "d65960bb-090b-4b56-c872-f6f9e393320d"
      },
      "execution_count": null,
      "outputs": [
        {
          "output_type": "execute_result",
          "data": {
            "text/plain": [
              "124"
            ]
          },
          "metadata": {},
          "execution_count": 7
        }
      ]
    },
    {
      "cell_type": "code",
      "source": [
        "n + str(1)"
      ],
      "metadata": {
        "colab": {
          "base_uri": "https://localhost:8080/",
          "height": 35
        },
        "id": "TjnTRTI9qwYA",
        "outputId": "74eca3d1-8d5d-4401-beb3-ba04ebf7c152"
      },
      "execution_count": null,
      "outputs": [
        {
          "output_type": "execute_result",
          "data": {
            "text/plain": [
              "'1231'"
            ],
            "application/vnd.google.colaboratory.intrinsic+json": {
              "type": "string"
            }
          },
          "metadata": {},
          "execution_count": 8
        }
      ]
    },
    {
      "cell_type": "code",
      "source": [],
      "metadata": {
        "id": "DIPSMYRWqyxg"
      },
      "execution_count": null,
      "outputs": []
    },
    {
      "cell_type": "markdown",
      "source": [
        "# 산술 연산자\n",
        "\n",
        "`+, -, *, /, //, %, **`\n",
        "\n",
        "* `/`: 소수점까지 계산하는 나눗셈\n",
        "* `//`: 나눈 몫\n",
        "* `%`: 나눈 나머지\n",
        "* `**`: 거듭제곱"
      ],
      "metadata": {
        "id": "CV0dM76YrMNA"
      }
    },
    {
      "cell_type": "code",
      "source": [
        "10 / 3"
      ],
      "metadata": {
        "colab": {
          "base_uri": "https://localhost:8080/"
        },
        "id": "X20OHDXGr1zR",
        "outputId": "ca76b6f3-37d3-46a6-deda-7dca68e33470"
      },
      "execution_count": null,
      "outputs": [
        {
          "output_type": "execute_result",
          "data": {
            "text/plain": [
              "3.3333333333333335"
            ]
          },
          "metadata": {},
          "execution_count": 9
        }
      ]
    },
    {
      "cell_type": "code",
      "source": [
        "10 % 3"
      ],
      "metadata": {
        "colab": {
          "base_uri": "https://localhost:8080/"
        },
        "id": "8fJ4CgP2r28n",
        "outputId": "9ad04b7c-4f84-4a91-f732-05c85c5be6ad"
      },
      "execution_count": null,
      "outputs": [
        {
          "output_type": "execute_result",
          "data": {
            "text/plain": [
              "1"
            ]
          },
          "metadata": {},
          "execution_count": 10
        }
      ]
    },
    {
      "cell_type": "code",
      "source": [
        "10 ** 3"
      ],
      "metadata": {
        "colab": {
          "base_uri": "https://localhost:8080/"
        },
        "id": "jMMQhnDNr-54",
        "outputId": "786f2092-c1ee-4db3-8d86-b1cad5d0e853"
      },
      "execution_count": null,
      "outputs": [
        {
          "output_type": "execute_result",
          "data": {
            "text/plain": [
              "1000"
            ]
          },
          "metadata": {},
          "execution_count": 11
        }
      ]
    },
    {
      "cell_type": "code",
      "source": [
        "10 ** -1"
      ],
      "metadata": {
        "colab": {
          "base_uri": "https://localhost:8080/"
        },
        "id": "_ctNtzv2sA23",
        "outputId": "ee2199b7-f6c6-4ace-b749-97a8a16a6427"
      },
      "execution_count": null,
      "outputs": [
        {
          "output_type": "execute_result",
          "data": {
            "text/plain": [
              "0.1"
            ]
          },
          "metadata": {},
          "execution_count": 13
        }
      ]
    },
    {
      "cell_type": "markdown",
      "source": [
        "# 비교 연산자, 논리 연산자\n",
        "\n",
        "* 비교 연산자 : `==, !=, >, >=, <, <=`\n",
        "* 논리 연산자: `and, or, not`"
      ],
      "metadata": {
        "id": "QTycpT7usWUX"
      }
    },
    {
      "cell_type": "code",
      "source": [
        "x = 100\n",
        "(x > 50) and (x < 150)"
      ],
      "metadata": {
        "colab": {
          "base_uri": "https://localhost:8080/"
        },
        "id": "Ee8vkVe-sHyX",
        "outputId": "a7f2a298-5952-45c5-a19e-2fb52b604130"
      },
      "execution_count": null,
      "outputs": [
        {
          "output_type": "execute_result",
          "data": {
            "text/plain": [
              "True"
            ]
          },
          "metadata": {},
          "execution_count": 15
        }
      ]
    },
    {
      "cell_type": "code",
      "source": [
        "50 < x < 150"
      ],
      "metadata": {
        "colab": {
          "base_uri": "https://localhost:8080/"
        },
        "id": "H8OK6uCjss1n",
        "outputId": "5c72b2d8-4628-44ab-ea48-ff61cd155e4d"
      },
      "execution_count": null,
      "outputs": [
        {
          "output_type": "execute_result",
          "data": {
            "text/plain": [
              "True"
            ]
          },
          "metadata": {},
          "execution_count": 16
        }
      ]
    },
    {
      "cell_type": "code",
      "source": [],
      "metadata": {
        "id": "URPDRi5ktC3n"
      },
      "execution_count": null,
      "outputs": []
    }
  ]
}