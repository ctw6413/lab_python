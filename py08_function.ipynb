{
  "nbformat": 4,
  "nbformat_minor": 0,
  "metadata": {
    "colab": {
      "provenance": [],
      "authorship_tag": "ABX9TyPEhgJQ/lvCzHmRKkONi04C",
      "include_colab_link": true
    },
    "kernelspec": {
      "name": "python3",
      "display_name": "Python 3"
    },
    "language_info": {
      "name": "python"
    }
  },
  "cells": [
    {
      "cell_type": "markdown",
      "metadata": {
        "id": "view-in-github",
        "colab_type": "text"
      },
      "source": [
        "<a href=\"https://colab.research.google.com/github/ctw6413/lab_python/blob/master/py08_function.ipynb\" target=\"_parent\"><img src=\"https://colab.research.google.com/assets/colab-badge.svg\" alt=\"Open In Colab\"/></a>"
      ]
    },
    {
      "cell_type": "markdown",
      "source": [
        "# 1급 객체로서의 함수\n",
        "\n",
        "* 함수는 변수에 할당할 수 있음\n",
        "* 함수의 파라미터에 아규먼트로 다른 함수를 전달할 수 있음\n",
        "  * 함수는 아규먼트가 될 수 있음\n",
        "* 함수는 다른 함수의 리턴 값이 될 수 있음\n",
        "* 함수 내부에서 다른 함수를 정의할 수 있음\n"
      ],
      "metadata": {
        "id": "k9tuT7LjxUIC"
      }
    },
    {
      "cell_type": "markdown",
      "source": [
        "## 함수를 변수에 할당"
      ],
      "metadata": {
        "id": "laRNTsR9yKH5"
      }
    },
    {
      "cell_type": "code",
      "source": [
        "def twice(x):\n",
        "    return 2 * x"
      ],
      "metadata": {
        "id": "1fbMeaeJyHQ5"
      },
      "execution_count": null,
      "outputs": []
    },
    {
      "cell_type": "code",
      "source": [
        "result = twice(100) # 함수 호출 결과(리턴 값)을 변수에 저장\n",
        "result"
      ],
      "metadata": {
        "colab": {
          "base_uri": "https://localhost:8080/"
        },
        "id": "1K73xFGFyR0D",
        "outputId": "887e1f19-fe52-43be-ac07-0d0a018d6342"
      },
      "execution_count": null,
      "outputs": [
        {
          "output_type": "execute_result",
          "data": {
            "text/plain": [
              "200"
            ]
          },
          "metadata": {},
          "execution_count": 3
        }
      ]
    },
    {
      "cell_type": "code",
      "source": [
        "double = twice # 함수(객체)를 변수에 저장.\n",
        "double"
      ],
      "metadata": {
        "colab": {
          "base_uri": "https://localhost:8080/"
        },
        "id": "2JIhYkw3yb7Q",
        "outputId": "06af6f8b-c4bb-4054-ad8b-dd315ce29bf2"
      },
      "execution_count": null,
      "outputs": [
        {
          "output_type": "execute_result",
          "data": {
            "text/plain": [
              "<function __main__.twice(x)>"
            ]
          },
          "metadata": {},
          "execution_count": 4
        }
      ]
    },
    {
      "cell_type": "code",
      "source": [
        "double(12)"
      ],
      "metadata": {
        "colab": {
          "base_uri": "https://localhost:8080/"
        },
        "id": "sCbyB2t9yp45",
        "outputId": "f771e5b1-4a76-4aea-b592-7ed6a0e3d19d"
      },
      "execution_count": null,
      "outputs": [
        {
          "output_type": "execute_result",
          "data": {
            "text/plain": [
              "24"
            ]
          },
          "metadata": {},
          "execution_count": 5
        }
      ]
    },
    {
      "cell_type": "markdown",
      "source": [
        "## 함수를 아규먼트로 사용"
      ],
      "metadata": {
        "id": "pdjMLhO3zKjB"
      }
    },
    {
      "cell_type": "code",
      "source": [
        "def cal(x, y, fn):\n",
        "    result = fn(x, y)\n",
        "    return result"
      ],
      "metadata": {
        "id": "eNpnK6KVzCeB"
      },
      "execution_count": null,
      "outputs": []
    },
    {
      "cell_type": "code",
      "source": [
        "def plus(x, y):\n",
        "    return x + y"
      ],
      "metadata": {
        "id": "4_h13_i3zM5Z"
      },
      "execution_count": null,
      "outputs": []
    },
    {
      "cell_type": "code",
      "source": [
        "cal(1, 2, plus)"
      ],
      "metadata": {
        "colab": {
          "base_uri": "https://localhost:8080/"
        },
        "id": "8HIVTghTzRaZ",
        "outputId": "dd6287de-ed80-402b-f1df-95f82304e84b"
      },
      "execution_count": null,
      "outputs": [
        {
          "output_type": "execute_result",
          "data": {
            "text/plain": [
              "3"
            ]
          },
          "metadata": {},
          "execution_count": 12
        }
      ]
    },
    {
      "cell_type": "code",
      "source": [
        "def minus(x, y):\n",
        "    return x- y"
      ],
      "metadata": {
        "id": "mScluvcMznKi"
      },
      "execution_count": null,
      "outputs": []
    },
    {
      "cell_type": "code",
      "source": [
        "cal(1, 2, minus)"
      ],
      "metadata": {
        "colab": {
          "base_uri": "https://localhost:8080/"
        },
        "id": "KUwzcZOy0OGY",
        "outputId": "0e67e388-060a-4790-d33c-8f7b78f2f811"
      },
      "execution_count": null,
      "outputs": [
        {
          "output_type": "execute_result",
          "data": {
            "text/plain": [
              "-1"
            ]
          },
          "metadata": {},
          "execution_count": 14
        }
      ]
    },
    {
      "cell_type": "markdown",
      "source": [
        "## 내부 함수, 함수 리턴"
      ],
      "metadata": {
        "id": "Zlxvq1hc1Icw"
      }
    },
    {
      "cell_type": "code",
      "source": [
        "def make_increment(n): # 외부 함수\n",
        "    def add_n(x): # 내부 함수, 지역 함수\n",
        "        return x + n # 내부 함수는 외부 함수의 지역 변수(파라키터 포함)들을 사용할 수 있음\n",
        "    return add_n"
      ],
      "metadata": {
        "id": "fzKQWl6k0Qdo"
      },
      "execution_count": null,
      "outputs": []
    },
    {
      "cell_type": "code",
      "source": [
        "increase_by_2 = make_increment(2)\n",
        "increase_by_2"
      ],
      "metadata": {
        "colab": {
          "base_uri": "https://localhost:8080/"
        },
        "id": "tWO2r7W61Tux",
        "outputId": "744e5b8a-374f-47f4-c268-6aad683e13d9"
      },
      "execution_count": null,
      "outputs": [
        {
          "output_type": "execute_result",
          "data": {
            "text/plain": [
              "<function __main__.make_increment.<locals>.add_n(x)>"
            ]
          },
          "metadata": {},
          "execution_count": 29
        }
      ]
    },
    {
      "cell_type": "code",
      "source": [
        "increase_by_2(100)"
      ],
      "metadata": {
        "colab": {
          "base_uri": "https://localhost:8080/"
        },
        "id": "9qntYOg81bWI",
        "outputId": "018e50bb-2d6b-43aa-b0b9-8de4a8f65681"
      },
      "execution_count": null,
      "outputs": [
        {
          "output_type": "execute_result",
          "data": {
            "text/plain": [
              "102"
            ]
          },
          "metadata": {},
          "execution_count": 30
        }
      ]
    },
    {
      "cell_type": "code",
      "source": [
        "increase_by_10 = make_increment(10)\n",
        "increase_by_10(100)"
      ],
      "metadata": {
        "colab": {
          "base_uri": "https://localhost:8080/"
        },
        "id": "NKZdjylt2NbA",
        "outputId": "16392026-47d3-45d7-84d2-3e89aa1e9e92"
      },
      "execution_count": null,
      "outputs": [
        {
          "output_type": "execute_result",
          "data": {
            "text/plain": [
              "110"
            ]
          },
          "metadata": {},
          "execution_count": 31
        }
      ]
    },
    {
      "cell_type": "code",
      "source": [
        "make_increment(5)(100)"
      ],
      "metadata": {
        "colab": {
          "base_uri": "https://localhost:8080/"
        },
        "id": "B0HktCyR2_Ug",
        "outputId": "c1e8f9a5-0388-4af1-c9e1-6cbc061bd6d5"
      },
      "execution_count": null,
      "outputs": [
        {
          "output_type": "execute_result",
          "data": {
            "text/plain": [
              "105"
            ]
          },
          "metadata": {},
          "execution_count": 33
        }
      ]
    },
    {
      "cell_type": "markdown",
      "source": [
        "# 람다 표현식\n",
        "\n",
        "```\n",
        "람다 param1, param2, ... : expression\n",
        "```\n",
        "\n",
        "* 이름이 없는 함수 표기법\n",
        "* 함수 이름 없이 함수의 파라미터 선언과 반환 값 또는 반환 식으로만 함수를 정의하는 방법\n",
        "* 파이썬은 2줄 이상의 문장이 포함된 람다 표현식 문법을 제공하지 않음"
      ],
      "metadata": {
        "id": "LHq1RcmQ8Vdg"
      }
    },
    {
      "cell_type": "code",
      "source": [
        "minus = lambda x, y: x - y\n",
        "minus"
      ],
      "metadata": {
        "colab": {
          "base_uri": "https://localhost:8080/"
        },
        "id": "vSeS2gke4CTX",
        "outputId": "cd2324a4-c07e-4e92-b64f-ae2528bfabf7"
      },
      "execution_count": null,
      "outputs": [
        {
          "output_type": "execute_result",
          "data": {
            "text/plain": [
              "<function __main__.<lambda>(x, y)>"
            ]
          },
          "metadata": {},
          "execution_count": 34
        }
      ]
    },
    {
      "cell_type": "code",
      "source": [
        "minus(1, 2)"
      ],
      "metadata": {
        "colab": {
          "base_uri": "https://localhost:8080/"
        },
        "id": "rYFpOLTs9jIW",
        "outputId": "cc59a93a-6288-4700-c393-6a8a0fde8623"
      },
      "execution_count": null,
      "outputs": [
        {
          "output_type": "execute_result",
          "data": {
            "text/plain": [
              "-1"
            ]
          },
          "metadata": {},
          "execution_count": 35
        }
      ]
    },
    {
      "cell_type": "code",
      "source": [
        "cal(2, 3, lambda x, y: x * y)"
      ],
      "metadata": {
        "colab": {
          "base_uri": "https://localhost:8080/"
        },
        "id": "6aNboqzW9p-m",
        "outputId": "2dc0df89-f526-4f5e-cd5e-b13ba3be2d92"
      },
      "execution_count": null,
      "outputs": [
        {
          "output_type": "execute_result",
          "data": {
            "text/plain": [
              "6"
            ]
          },
          "metadata": {},
          "execution_count": 36
        }
      ]
    },
    {
      "cell_type": "code",
      "source": [
        "cal(2, 3, lambda x, y: x / y)"
      ],
      "metadata": {
        "colab": {
          "base_uri": "https://localhost:8080/"
        },
        "id": "m5YsVoFu-bym",
        "outputId": "372fe19a-c2f7-400e-caa5-086d2a7240da"
      },
      "execution_count": null,
      "outputs": [
        {
          "output_type": "execute_result",
          "data": {
            "text/plain": [
              "0.6666666666666666"
            ]
          },
          "metadata": {},
          "execution_count": 37
        }
      ]
    },
    {
      "cell_type": "markdown",
      "source": [
        "ex1. cal 함수에 2개의 숫자중에서 더 큰수를 리턴하는 람다 표현식을 전달"
      ],
      "metadata": {
        "id": "mOYwPzyl_gtm"
      }
    },
    {
      "cell_type": "code",
      "source": [
        "cal(2, 3, lambda x, y : x if x > y else y)"
      ],
      "metadata": {
        "colab": {
          "base_uri": "https://localhost:8080/"
        },
        "id": "cA0U_ncIAVTF",
        "outputId": "e12934f8-4189-4e0e-c9ec-da68004b39e5"
      },
      "execution_count": null,
      "outputs": [
        {
          "output_type": "execute_result",
          "data": {
            "text/plain": [
              "3"
            ]
          },
          "metadata": {},
          "execution_count": 44
        }
      ]
    },
    {
      "cell_type": "markdown",
      "source": [
        "ex2. cal 함수에 첫번째 아규먼트가 크면 True, 그렇지 않으면 False를 리턴하는 람다표현식을 전달"
      ],
      "metadata": {
        "id": "TneX9_xN_nI3"
      }
    },
    {
      "cell_type": "code",
      "source": [
        "cal(2, 3, lambda x, y: True if x > y else False)"
      ],
      "metadata": {
        "colab": {
          "base_uri": "https://localhost:8080/"
        },
        "id": "OCDKkKC6AHs9",
        "outputId": "7a307736-75ce-4a91-8608-dc84a8c60d4c"
      },
      "execution_count": null,
      "outputs": [
        {
          "output_type": "execute_result",
          "data": {
            "text/plain": [
              "False"
            ]
          },
          "metadata": {},
          "execution_count": 49
        }
      ]
    },
    {
      "cell_type": "code",
      "source": [
        "cal(2, 1, lambda x, y : x > y)"
      ],
      "metadata": {
        "colab": {
          "base_uri": "https://localhost:8080/"
        },
        "id": "ka3QVI-EBPp1",
        "outputId": "7a851e97-8aa7-45f6-8da5-7fe3b22b19ad"
      },
      "execution_count": null,
      "outputs": [
        {
          "output_type": "execute_result",
          "data": {
            "text/plain": [
              "True"
            ]
          },
          "metadata": {},
          "execution_count": 51
        }
      ]
    },
    {
      "cell_type": "markdown",
      "source": [
        "## filter 함수\n",
        "\n",
        "조건에 맞는 원소들만 선택"
      ],
      "metadata": {
        "id": "nwPbDI6rCGBF"
      }
    },
    {
      "cell_type": "code",
      "source": [
        "def my_filter(iterable, fn):\n",
        "  \"\"\"\n",
        "  리스트 iterable의 원소들 중에서 함수 fn의 호출 결과 값이 True인 원소들로만 이루어진 리스트를 리턴\n",
        "\n",
        "  Param iterable: 리스트\n",
        "  Param fn: 아규먼트가 1개이고, True/False를 리턴하는 함수\n",
        "  \"\"\"\n",
        "  return [x for x in iterable if fn(x)]\n",
        "\n",
        "  # result = [] # 필터링된 원소들을 저장할 빈 리스트\n",
        "  # for x in iterable: # 리스트의 원소들을 순서대로 반복하면서,\n",
        "  #     if fn(x): # 그 원소를 함수에게 전달 했을 때 True를 리턴하면\n",
        "  #         # 필터링 조건을 만족하면\n",
        "  #           result.append(x) # 결과 리스트에 필터링된 원소를 추가\n",
        "  # return result"
      ],
      "metadata": {
        "id": "sdzN9NETBeA1"
      },
      "execution_count": null,
      "outputs": []
    },
    {
      "cell_type": "code",
      "source": [
        "numbers= [1, -2, 3, 4, -5, -6, 7]"
      ],
      "metadata": {
        "id": "-W6q3FRECmAN"
      },
      "execution_count": null,
      "outputs": []
    },
    {
      "cell_type": "code",
      "source": [
        "my_filter(numbers, lambda x : x > 0)"
      ],
      "metadata": {
        "colab": {
          "base_uri": "https://localhost:8080/"
        },
        "id": "fXSf2zqIMIay",
        "outputId": "3162bc0f-5b68-41d1-a8ad-f2e337188aec"
      },
      "execution_count": null,
      "outputs": [
        {
          "output_type": "execute_result",
          "data": {
            "text/plain": [
              "[1, 3, 4, 7]"
            ]
          },
          "metadata": {},
          "execution_count": 86
        }
      ]
    },
    {
      "cell_type": "code",
      "source": [
        "my_filter(numbers, lambda x : x % 2 == 0)"
      ],
      "metadata": {
        "colab": {
          "base_uri": "https://localhost:8080/"
        },
        "id": "hwp6e3BnKxQb",
        "outputId": "07c5feda-be4e-4989-fc8a-1faaa825080a"
      },
      "execution_count": null,
      "outputs": [
        {
          "output_type": "execute_result",
          "data": {
            "text/plain": [
              "[-2, 4, -6]"
            ]
          },
          "metadata": {},
          "execution_count": 87
        }
      ]
    },
    {
      "cell_type": "code",
      "source": [
        "strings = ['python', 'java', 'js', 'sql']\n",
        "\n",
        "# my_filter 함수를 사용해서 strings에서 5글자이상인 문자열 출력\n",
        "my_filter(strings, lambda x : len(x) >= 5)"
      ],
      "metadata": {
        "colab": {
          "base_uri": "https://localhost:8080/"
        },
        "id": "01CeDSWmKxHD",
        "outputId": "be5c0093-e19f-46bd-86e5-7c1d55098ad9"
      },
      "execution_count": null,
      "outputs": [
        {
          "output_type": "execute_result",
          "data": {
            "text/plain": [
              "['python']"
            ]
          },
          "metadata": {},
          "execution_count": 89
        }
      ]
    },
    {
      "cell_type": "markdown",
      "source": [
        "## map 함수\n",
        "원소들을 규칙에 따라서 다른 값으로 변환"
      ],
      "metadata": {
        "id": "llngdYAyOWpa"
      }
    },
    {
      "cell_type": "code",
      "source": [
        "def my_mapper(iterable, fn):\n",
        "    \"\"\"\n",
        "    리스트 iterable의 원소들을 함수 fn의 리턴값으로 변환한 리스트를 리턴\n",
        "\n",
        "    Param iterable: 리스트\n",
        "    Param fn: 아규먼트가 1개이고 리턴값이 있는 함수\n",
        "    \"\"\"\n",
        "    return [fn(x) for x in iterable]\n"
      ],
      "metadata": {
        "id": "yZVXpIQeEl7M"
      },
      "execution_count": null,
      "outputs": []
    },
    {
      "cell_type": "code",
      "source": [
        "my_mapper(strings, lambda x : len(x) >= 5)"
      ],
      "metadata": {
        "colab": {
          "base_uri": "https://localhost:8080/"
        },
        "id": "CEmFJjFyO1AV",
        "outputId": "bbc54fc5-71a4-4f6d-85cc-79c016149db4"
      },
      "execution_count": null,
      "outputs": [
        {
          "output_type": "execute_result",
          "data": {
            "text/plain": [
              "[True, False, False, False]"
            ]
          },
          "metadata": {},
          "execution_count": 93
        }
      ]
    },
    {
      "cell_type": "code",
      "source": [
        "print(numbers)"
      ],
      "metadata": {
        "colab": {
          "base_uri": "https://localhost:8080/"
        },
        "id": "476HYhLMP0Gy",
        "outputId": "baa324e3-95f4-4068-ad42-5de1d674b768"
      },
      "execution_count": null,
      "outputs": [
        {
          "output_type": "stream",
          "name": "stdout",
          "text": [
            "[1, -2, 3, 4, -5, -6, 7]\n"
          ]
        }
      ]
    },
    {
      "cell_type": "code",
      "source": [
        "# 리스트 numbers의 원소들의 제곱으로 이루어진 리스트\n",
        "my_mapper(numbers, lambda x : x ** 2)"
      ],
      "metadata": {
        "colab": {
          "base_uri": "https://localhost:8080/"
        },
        "id": "Y6LXYzikQNap",
        "outputId": "f0658063-866f-460c-f9b5-11d50f03da7e"
      },
      "execution_count": null,
      "outputs": [
        {
          "output_type": "execute_result",
          "data": {
            "text/plain": [
              "[1, 4, 9, 16, 25, 36, 49]"
            ]
          },
          "metadata": {},
          "execution_count": 95
        }
      ]
    },
    {
      "cell_type": "code",
      "source": [
        "# 리스트 numbers의 원소가 짝수이면 'even' 홀수면 'odd'\n",
        "my_mapper(numbers, lambda x : 'even' if x % 2 == 0 else 'odd')"
      ],
      "metadata": {
        "colab": {
          "base_uri": "https://localhost:8080/"
        },
        "id": "2-5A31waQWJr",
        "outputId": "e8bc3a2a-bde7-4ab3-83ea-979bd64a07fa"
      },
      "execution_count": null,
      "outputs": [
        {
          "output_type": "execute_result",
          "data": {
            "text/plain": [
              "['odd', 'even', 'odd', 'even', 'odd', 'even', 'odd']"
            ]
          },
          "metadata": {},
          "execution_count": 101
        }
      ]
    },
    {
      "cell_type": "code",
      "source": [
        "strings"
      ],
      "metadata": {
        "colab": {
          "base_uri": "https://localhost:8080/"
        },
        "id": "VszyMjR_R7fR",
        "outputId": "c7462f8c-66ee-4bde-dcf5-467a021220ce"
      },
      "execution_count": null,
      "outputs": [
        {
          "output_type": "execute_result",
          "data": {
            "text/plain": [
              "['python', 'java', 'js', 'sql']"
            ]
          },
          "metadata": {},
          "execution_count": 103
        }
      ]
    },
    {
      "cell_type": "code",
      "source": [
        "# strings가 가지고 있는 문자열의 길이들로 이루어진 리스트\n",
        "my_mapper(strings, lambda x : len(x))"
      ],
      "metadata": {
        "colab": {
          "base_uri": "https://localhost:8080/"
        },
        "id": "PvQIgNr1QwKh",
        "outputId": "8ad5d3e6-c3a6-48e7-f85b-7a6a0a39f1cf"
      },
      "execution_count": null,
      "outputs": [
        {
          "output_type": "execute_result",
          "data": {
            "text/plain": [
              "[6, 4, 2, 3]"
            ]
          },
          "metadata": {},
          "execution_count": 104
        }
      ]
    },
    {
      "cell_type": "code",
      "source": [
        "# strings의 문자열들을 대문자로 변환하는 리스트\n",
        "my_mapper(strings, lambda x : x.upper())"
      ],
      "metadata": {
        "colab": {
          "base_uri": "https://localhost:8080/"
        },
        "id": "rEShEeqXSCZx",
        "outputId": "d4bb00d0-8661-4806-8e34-734e63036421"
      },
      "execution_count": null,
      "outputs": [
        {
          "output_type": "execute_result",
          "data": {
            "text/plain": [
              "['PYTHON', 'JAVA', 'JS', 'SQL']"
            ]
          },
          "metadata": {},
          "execution_count": 106
        }
      ]
    },
    {
      "cell_type": "code",
      "source": [],
      "metadata": {
        "id": "2zp_7UlcSP15"
      },
      "execution_count": null,
      "outputs": []
    }
  ]
}